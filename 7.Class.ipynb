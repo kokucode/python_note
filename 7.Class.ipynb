{
 "cells": [
  {
   "cell_type": "markdown",
   "metadata": {},
   "source": [
    "# 物件 - 屬性 (attribute) & 方法 (method)\n",
    "每個 \"物件\" 都有屬性和方法，而將這兩項包起來的即為 class"
   ]
  },
  {
   "cell_type": "markdown",
   "metadata": {},
   "source": [
    "> - 屬性 (attribute) 為儲存的變數\n",
    "- 方法 (method) 可想成 class 中的 function"
   ]
  },
  {
   "cell_type": "markdown",
   "metadata": {},
   "source": [
    "# 1.class"
   ]
  },
  {
   "cell_type": "markdown",
   "metadata": {},
   "source": [
    "## 1-1.用 class 定義類別"
   ]
  },
  {
   "cell_type": "markdown",
   "metadata": {
    "collapsed": true
   },
   "source": [
    "-  利用 \\__init\\__() 初始化，\\__init\\__() 即為 method\n",
    "<br>前後有\"\\__\" 為 python 所保留法<br\\>"
   ]
  },
  {
   "cell_type": "code",
   "execution_count": 1,
   "metadata": {
    "collapsed": true
   },
   "outputs": [],
   "source": [
    "class Person:\n",
    "    def __init__(self, name):\n",
    "        self.name = name"
   ]
  },
  {
   "cell_type": "code",
   "execution_count": 2,
   "metadata": {
    "collapsed": false
   },
   "outputs": [
    {
     "name": "stdout",
     "output_type": "stream",
     "text": [
      "NARUTO\n"
     ]
    }
   ],
   "source": [
    "Ninja = Person('NARUTO')\n",
    "print(Ninja.name)"
   ]
  },
  {
   "cell_type": "markdown",
   "metadata": {},
   "source": [
    "- \\__init\\__ 的第一個引數會參考此類別的物件，self 的 (效果相當於 Java 中的 this)，但 self 只是慣用法，實際上可以使用別的名稱"
   ]
  },
  {
   "cell_type": "code",
   "execution_count": 3,
   "metadata": {
    "collapsed": true
   },
   "outputs": [],
   "source": [
    "class 人:\n",
    "    def __init__(私, 名前):\n",
    "        私.名前 = 名前"
   ]
  },
  {
   "cell_type": "code",
   "execution_count": 4,
   "metadata": {
    "collapsed": false
   },
   "outputs": [
    {
     "name": "stdout",
     "output_type": "stream",
     "text": [
      "NARUTO\n"
     ]
    }
   ],
   "source": [
    "忍者 = 人('NARUTO')\n",
    "print(忍者.名前)"
   ]
  },
  {
   "cell_type": "markdown",
   "metadata": {},
   "source": [
    "## 1-2.實例 ( instance ) 方法 - self\n",
    "實例方法類比於 Java 的 new 出一個新物件\n",
    ">item = new <i>Class_name()</i> ;"
   ]
  },
  {
   "cell_type": "markdown",
   "metadata": {},
   "source": [
    "- <b>第一個引數要使用 self</b>，Python 會使用第一個引數來尋找其物件的 - \"屬性\", \"方法\""
   ]
  },
  {
   "cell_type": "code",
   "execution_count": 5,
   "metadata": {
    "collapsed": false
   },
   "outputs": [
    {
     "name": "stdout",
     "output_type": "stream",
     "text": [
      "轟轟轟, I'm fast\n"
     ]
    }
   ],
   "source": [
    "class cars():\n",
    "    def __init__(self, slogan):\n",
    "        self.slogan = slogan\n",
    "    def engine_start(self):\n",
    "        print('轟轟轟,', self.slogan)\n",
    "        \n",
    "supercar = cars('I\\'m fast')\n",
    "supercar.engine_start()\n"
   ]
  },
  {
   "cell_type": "markdown",
   "metadata": {},
   "source": [
    "也想當於"
   ]
  },
  {
   "cell_type": "code",
   "execution_count": 6,
   "metadata": {
    "collapsed": false
   },
   "outputs": [
    {
     "name": "stdout",
     "output_type": "stream",
     "text": [
      "轟轟轟, I'm fast\n"
     ]
    }
   ],
   "source": [
    "cars.engine_start(supercar)"
   ]
  },
  {
   "cell_type": "markdown",
   "metadata": {},
   "source": [
    "<br></br>"
   ]
  },
  {
   "cell_type": "markdown",
   "metadata": {},
   "source": [
    "## 2.class 的基本操作 - 繼承、override、super"
   ]
  },
  {
   "cell_type": "markdown",
   "metadata": {},
   "source": [
    "### 2-1.繼承"
   ]
  },
  {
   "cell_type": "markdown",
   "metadata": {},
   "source": [
    "- 在定義 class 時，使用 class_name( <b>被繼承的class</b> ) 方式繼承"
   ]
  },
  {
   "cell_type": "code",
   "execution_count": 7,
   "metadata": {
    "collapsed": true
   },
   "outputs": [],
   "source": [
    "class cars():\n",
    "    def engine_start():\n",
    "        print('轟轟轟')\n",
    "\n",
    "#繼承 cars\n",
    "class Toyota(cars):\n",
    "    pass"
   ]
  },
  {
   "cell_type": "code",
   "execution_count": 8,
   "metadata": {
    "collapsed": false
   },
   "outputs": [
    {
     "name": "stdout",
     "output_type": "stream",
     "text": [
      "轟轟轟\n"
     ]
    }
   ],
   "source": [
    "Toyota.engine_start()"
   ]
  },
  {
   "cell_type": "code",
   "execution_count": 9,
   "metadata": {
    "collapsed": true
   },
   "outputs": [],
   "source": [
    "class cars():\n",
    "    def engine_start(self):\n",
    "        print('轟轟轟')\n",
    "        \n",
    "class Toyota(cars):\n",
    "    pass"
   ]
  },
  {
   "cell_type": "code",
   "execution_count": 10,
   "metadata": {
    "collapsed": false
   },
   "outputs": [
    {
     "name": "stdout",
     "output_type": "stream",
     "text": [
      "轟轟轟\n"
     ]
    }
   ],
   "source": [
    "altis = Toyota()\n",
    "altis.engine_start()"
   ]
  },
  {
   "cell_type": "markdown",
   "metadata": {},
   "source": [
    "## 2-2.override"
   ]
  },
  {
   "cell_type": "markdown",
   "metadata": {},
   "source": [
    "- override 繼承過來 class 中的 function - 只要在重寫一次這function就好"
   ]
  },
  {
   "cell_type": "code",
   "execution_count": 11,
   "metadata": {
    "collapsed": true
   },
   "outputs": [],
   "source": [
    "class Tesla(cars):\n",
    "    def engine_start(sth=''):\n",
    "        print('...(no voice)',sth)"
   ]
  },
  {
   "cell_type": "code",
   "execution_count": 12,
   "metadata": {
    "collapsed": false
   },
   "outputs": [
    {
     "name": "stdout",
     "output_type": "stream",
     "text": [
      "...(no voice) boom\n"
     ]
    }
   ],
   "source": [
    "Tesla.engine_start('boom')"
   ]
  },
  {
   "cell_type": "markdown",
   "metadata": {},
   "source": [
    "- 使用 super 呼叫父類別中的函示"
   ]
  },
  {
   "cell_type": "code",
   "execution_count": 13,
   "metadata": {
    "collapsed": false
   },
   "outputs": [],
   "source": [
    "class Person_info(Person):\n",
    "    def __init__(self, name, email):\n",
    "        super().__init__(name)\n",
    "        self.email = email"
   ]
  },
  {
   "cell_type": "code",
   "execution_count": 14,
   "metadata": {
    "collapsed": false
   },
   "outputs": [
    {
     "name": "stdout",
     "output_type": "stream",
     "text": [
      "NARUTO\n",
      "naruto@ninja.com\n"
     ]
    }
   ],
   "source": [
    "naruto = Person_info('NARUTO', 'naruto@ninja.com')\n",
    "print(naruto.name)\n",
    "print(naruto.email)"
   ]
  },
  {
   "cell_type": "markdown",
   "metadata": {},
   "source": [
    "<br></br>"
   ]
  },
  {
   "cell_type": "markdown",
   "metadata": {},
   "source": [
    "#  3.Python 中 class 的操作\n",
    "以往在 java 都會使用 private 保護變數，但 python 並無 private"
   ]
  },
  {
   "cell_type": "markdown",
   "metadata": {},
   "source": [
    "## 3-1製作 getter 和 setter"
   ]
  },
  {
   "cell_type": "code",
   "execution_count": 15,
   "metadata": {
    "collapsed": true
   },
   "outputs": [],
   "source": [
    "class Ball:\n",
    "    \n",
    "    def __init__(self, radius):\n",
    "        if radius <= 0:\n",
    "            raise ValueError('radius must => 0')\n",
    "        self.hidden_radius = radius\n",
    "        \n",
    "    def getRadius(self):\n",
    "        return self.hidden_radius\n",
    "    \n",
    "    def setRadius(self, radius):\n",
    "        if radius <= 0:\n",
    "            raise ValueError\n",
    "        self.hidden_radius = radius"
   ]
  },
  {
   "cell_type": "markdown",
   "metadata": {},
   "source": [
    "- 使用 getter 存取"
   ]
  },
  {
   "cell_type": "code",
   "execution_count": 16,
   "metadata": {
    "collapsed": false
   },
   "outputs": [
    {
     "data": {
      "text/plain": [
       "75"
      ]
     },
     "execution_count": 16,
     "metadata": {},
     "output_type": "execute_result"
    }
   ],
   "source": [
    "basketball = Ball(75)\n",
    "basketball.getRadius()"
   ]
  },
  {
   "cell_type": "markdown",
   "metadata": {},
   "source": [
    "但是實際上也可以直接改成變數..."
   ]
  },
  {
   "cell_type": "code",
   "execution_count": 17,
   "metadata": {
    "collapsed": false
   },
   "outputs": [
    {
     "data": {
      "text/plain": [
       "-1"
      ]
     },
     "execution_count": 17,
     "metadata": {},
     "output_type": "execute_result"
    }
   ],
   "source": [
    "basketball.hidden_radius = -1\n",
    "basketball.getRadius()"
   ]
  },
  {
   "cell_type": "markdown",
   "metadata": {},
   "source": [
    "## 3-2.使用 decorator - @property、@<i>getter_name</i>.setter 取代 getter 和 setter"
   ]
  },
  {
   "cell_type": "markdown",
   "metadata": {},
   "source": [
    "- 使用 decorator <b>@property</b> 可以將 method 當成attribute 存取\n",
    "> - <b>@property</b> 放在 getter 前\n",
    ">- <b>@<i>getter_name</i>.setter</b> 放在 setter 前"
   ]
  },
  {
   "cell_type": "code",
   "execution_count": 18,
   "metadata": {
    "collapsed": true
   },
   "outputs": [],
   "source": [
    "class Ball:\n",
    "    \n",
    "    def __init__(self, radius):\n",
    "        if radius <= 0:\n",
    "            raise ValueError('radius must => 0')\n",
    "        self.hidden_radius = radius\n",
    "        \n",
    "    @property #用於 getter 方法前\n",
    "    def Radius(self):\n",
    "        return self.hidden_radius\n",
    "    \n",
    "    @Radius.setter #用於 setter 方法前\n",
    "    def Radius(self, radius):\n",
    "        if radius <= 0:\n",
    "            raise ValueError\n",
    "        self.hidden_radius = radius"
   ]
  },
  {
   "cell_type": "code",
   "execution_count": 19,
   "metadata": {
    "collapsed": false
   },
   "outputs": [
    {
     "data": {
      "text/plain": [
       "75"
      ]
     },
     "execution_count": 19,
     "metadata": {},
     "output_type": "execute_result"
    }
   ],
   "source": [
    "basketball = Ball(75)\n",
    "basketball.Radius #get radius"
   ]
  },
  {
   "cell_type": "code",
   "execution_count": 20,
   "metadata": {
    "collapsed": false
   },
   "outputs": [
    {
     "data": {
      "text/plain": [
       "80"
      ]
     },
     "execution_count": 20,
     "metadata": {},
     "output_type": "execute_result"
    }
   ],
   "source": [
    "basketball.Radius = 80 #set raius\n",
    "basketball.hidden_radius"
   ]
  },
  {
   "cell_type": "markdown",
   "metadata": {},
   "source": [
    "## 3-3 使用 __<i>name</i> 來隱藏"
   ]
  },
  {
   "cell_type": "code",
   "execution_count": 21,
   "metadata": {
    "collapsed": true
   },
   "outputs": [],
   "source": [
    "class Ball:\n",
    "    \n",
    "    def __init__(self, radius):\n",
    "        if radius <= 0:\n",
    "            raise ValueError('radius must => 0')\n",
    "        self.__radius = radius #將 hidden_radius 改成 __radius\n",
    "        \n",
    "    @property\n",
    "    def Radius(self):\n",
    "        return self.__radius\n",
    "    \n",
    "    @Radius.setter\n",
    "    def Radius(self, radius):\n",
    "        if radius <= 0:\n",
    "            raise ValueError\n",
    "        self.__radius = radius"
   ]
  },
  {
   "cell_type": "code",
   "execution_count": 30,
   "metadata": {
    "collapsed": false
   },
   "outputs": [
    {
     "ename": "AttributeError",
     "evalue": "'Ball' object has no attribute '__radius'",
     "output_type": "error",
     "traceback": [
      "\u001b[0;31m---------------------------------------------------------------------------\u001b[0m",
      "\u001b[0;31mAttributeError\u001b[0m                            Traceback (most recent call last)",
      "\u001b[0;32m<ipython-input-30-4677f37c305e>\u001b[0m in \u001b[0;36m<module>\u001b[0;34m()\u001b[0m\n\u001b[1;32m      1\u001b[0m \u001b[0mbasketball\u001b[0m \u001b[1;33m=\u001b[0m \u001b[0mBall\u001b[0m\u001b[1;33m(\u001b[0m\u001b[1;36m75\u001b[0m\u001b[1;33m)\u001b[0m\u001b[1;33m\u001b[0m\u001b[0m\n\u001b[0;32m----> 2\u001b[0;31m \u001b[0mbasketball\u001b[0m\u001b[1;33m.\u001b[0m\u001b[0m__radius\u001b[0m \u001b[1;31m#這樣會導致錯誤，但是其實 __radius 還是不是私有變數\u001b[0m\u001b[1;33m\u001b[0m\u001b[0m\n\u001b[0m",
      "\u001b[0;31mAttributeError\u001b[0m: 'Ball' object has no attribute '__radius'"
     ]
    }
   ],
   "source": [
    "basketball = Ball(75)\n",
    "basketball.__radius #這樣會導致錯誤，但是其實 __radius 還是不是私有變數"
   ]
  },
  {
   "cell_type": "markdown",
   "metadata": {},
   "source": [
    "- 其時，這是因為 Python 的 name mangling 機制，目的是讓某些 attribute 不想被 subclass 使用\n",
    "- 但是仍可以以 \\_<i>className</i>.\\_\\_<i>attrName</i>呼叫"
   ]
  },
  {
   "cell_type": "code",
   "execution_count": 23,
   "metadata": {
    "collapsed": false
   },
   "outputs": [
    {
     "data": {
      "text/plain": [
       "75"
      ]
     },
     "execution_count": 23,
     "metadata": {},
     "output_type": "execute_result"
    }
   ],
   "source": [
    "basketball._Ball__radius"
   ]
  },
  {
   "cell_type": "markdown",
   "metadata": {},
   "source": [
    "- 此時，一定要用 Raius"
   ]
  },
  {
   "cell_type": "code",
   "execution_count": 24,
   "metadata": {
    "collapsed": false
   },
   "outputs": [
    {
     "data": {
      "text/plain": [
       "75"
      ]
     },
     "execution_count": 24,
     "metadata": {},
     "output_type": "execute_result"
    }
   ],
   "source": [
    "basketball.Radius"
   ]
  },
  {
   "cell_type": "markdown",
   "metadata": {},
   "source": [
    "## 3-4.方法類型 @classmethod"
   ]
  },
  {
   "cell_type": "markdown",
   "metadata": {},
   "source": [
    "- 使用 decorator <b>@classmethod</b> 下列 method 的第一個參數是 <b>\"class\"</b> 本身的參考物件 "
   ]
  },
  {
   "cell_type": "code",
   "execution_count": 25,
   "metadata": {
    "collapsed": true
   },
   "outputs": [],
   "source": [
    "class Ball:\n",
    "    \n",
    "    count = 0\n",
    "    \n",
    "    def __init__(self, radius):\n",
    "        Ball.count += 1 #計算 new 出了多少子物件\n",
    "        if radius <= 0:\n",
    "            raise ValueError('radius must => 0')\n",
    "        self.__radius = radius #將 hidden_radius 改成 __radius\n",
    "        \n",
    "    @property\n",
    "    def Radius(self):\n",
    "        return self.__radius\n",
    "    \n",
    "    @Radius.setter\n",
    "    def Radius(self, radius):\n",
    "        if radius <= 0:\n",
    "            raise ValueError\n",
    "        self.__radius = radius\n",
    "        \n",
    "    @classmethod\n",
    "    def kids(cls): #cls 極為參考 class 本身\n",
    "        print('已經 new 出了', cls.count, '個子物件')"
   ]
  },
  {
   "cell_type": "markdown",
   "metadata": {},
   "source": [
    "- 與 Java 的 Static 概念一樣\n",
    "    - static <i>obj</i>，此時<i>obj</i>為 class 所擁有\n",
    "    - 還是可以以該 class 的物件取得值"
   ]
  },
  {
   "cell_type": "code",
   "execution_count": 26,
   "metadata": {
    "collapsed": false
   },
   "outputs": [
    {
     "name": "stdout",
     "output_type": "stream",
     "text": [
      "已經 new 出了 3 個子物件\n",
      "已經 new 出了 3 個子物件\n"
     ]
    }
   ],
   "source": [
    "basketball = Ball(75)\n",
    "football = Ball(60)\n",
    "baseball = Ball(10)\n",
    "\n",
    "Ball.kids()\n",
    "baseball.kids()"
   ]
  },
  {
   "cell_type": "code",
   "execution_count": 27,
   "metadata": {
    "collapsed": false
   },
   "outputs": [
    {
     "data": {
      "text/plain": [
       "75"
      ]
     },
     "execution_count": 27,
     "metadata": {},
     "output_type": "execute_result"
    }
   ],
   "source": [
    "basketball.__dict__['_Ball__radius']"
   ]
  },
  {
   "cell_type": "markdown",
   "metadata": {},
   "source": [
    "## 3-5 Recursive"
   ]
  },
  {
   "cell_type": "markdown",
   "metadata": {},
   "source": [
    "- 在 class 中要使用遞迴式，要以 self.<i>recursive_func_name(args)</i> 呼叫"
   ]
  },
  {
   "cell_type": "code",
   "execution_count": 28,
   "metadata": {
    "collapsed": true
   },
   "outputs": [],
   "source": [
    "# \n",
    "class Sum_range():\n",
    "    def sum_range(self, p , q ):\n",
    "        if p == q:\n",
    "            return p\n",
    "        if q > p:\n",
    "            return q + self.sum_range(p, q-1)"
   ]
  },
  {
   "cell_type": "code",
   "execution_count": 29,
   "metadata": {
    "collapsed": false
   },
   "outputs": [
    {
     "data": {
      "text/plain": [
       "5050"
      ]
     },
     "execution_count": 29,
     "metadata": {},
     "output_type": "execute_result"
    }
   ],
   "source": [
    "obj = Sum_range()\n",
    "obj.sum_range(1, 100)"
   ]
  }
 ],
 "metadata": {
  "kernelspec": {
   "display_name": "Python 3",
   "language": "python",
   "name": "python3"
  },
  "language_info": {
   "codemirror_mode": {
    "name": "ipython",
    "version": 3
   },
   "file_extension": ".py",
   "mimetype": "text/x-python",
   "name": "python",
   "nbconvert_exporter": "python",
   "pygments_lexer": "ipython3",
   "version": "3.6.0"
  }
 },
 "nbformat": 4,
 "nbformat_minor": 2
}
