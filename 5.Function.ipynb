{
 "cells": [
  {
   "cell_type": "markdown",
   "metadata": {},
   "source": [
    "# 基本函式"
   ]
  },
  {
   "cell_type": "markdown",
   "metadata": {},
   "source": [
    "## 1. 關於函式\n",
    "需要做兩件式\n",
    "- define\n",
    "- run <br\\>\n",
    "\n",
    "python 以冒號以及縮排來完成一個函式"
   ]
  },
  {
   "cell_type": "code",
   "execution_count": 1,
   "metadata": {
    "collapsed": true
   },
   "outputs": [],
   "source": [
    "def helloWorld():\n",
    "    print(\"Hello World!!!\")\n",
    "    return 'Already display: \"Hello World!!!\"'"
   ]
  },
  {
   "cell_type": "code",
   "execution_count": 2,
   "metadata": {
    "collapsed": false
   },
   "outputs": [
    {
     "name": "stdout",
     "output_type": "stream",
     "text": [
      "Hello World!!!\n"
     ]
    }
   ],
   "source": [
    "hello_func = helloWorld()"
   ]
  },
  {
   "cell_type": "code",
   "execution_count": 3,
   "metadata": {
    "collapsed": false
   },
   "outputs": [
    {
     "name": "stdout",
     "output_type": "stream",
     "text": [
      "Already display: \"Hello World!!!\"\n"
     ]
    }
   ],
   "source": [
    "print(hello_func)"
   ]
  },
  {
   "cell_type": "markdown",
   "metadata": {},
   "source": [
    "## 2.函式也是物件\n",
    "我們可以把函式傳入函式中"
   ]
  },
  {
   "cell_type": "code",
   "execution_count": 4,
   "metadata": {
    "collapsed": true
   },
   "outputs": [],
   "source": [
    "def do(func):\n",
    "    func()"
   ]
  },
  {
   "cell_type": "code",
   "execution_count": 5,
   "metadata": {
    "collapsed": false
   },
   "outputs": [
    {
     "name": "stdout",
     "output_type": "stream",
     "text": [
      "Hello World!!!\n"
     ]
    }
   ],
   "source": [
    "do(helloWorld)"
   ]
  },
  {
   "cell_type": "markdown",
   "metadata": {},
   "source": [
    "## 3.引數"
   ]
  },
  {
   "cell_type": "markdown",
   "metadata": {},
   "source": [
    "- 在函式中加入引數吧"
   ]
  },
  {
   "cell_type": "code",
   "execution_count": 6,
   "metadata": {
    "collapsed": true
   },
   "outputs": [],
   "source": [
    "def say(sth):\n",
    "    print(\"Ｉ say '\", sth, \"'.\")"
   ]
  },
  {
   "cell_type": "code",
   "execution_count": 7,
   "metadata": {
    "collapsed": false
   },
   "outputs": [
    {
     "name": "stdout",
     "output_type": "stream",
     "text": [
      "Ｉ say ' HI '.\n"
     ]
    }
   ],
   "source": [
    "say('HI')"
   ]
  },
  {
   "cell_type": "markdown",
   "metadata": {},
   "source": [
    "- 指定預設值"
   ]
  },
  {
   "cell_type": "code",
   "execution_count": 8,
   "metadata": {
    "collapsed": true
   },
   "outputs": [],
   "source": [
    "def say(sth=\"hello\"):\n",
    "    print(\"Ｉ say '\", sth, \"'.\")"
   ]
  },
  {
   "cell_type": "code",
   "execution_count": 9,
   "metadata": {
    "collapsed": false
   },
   "outputs": [
    {
     "name": "stdout",
     "output_type": "stream",
     "text": [
      "Ｉ say ' hello '.\n"
     ]
    }
   ],
   "source": [
    "say()"
   ]
  },
  {
   "cell_type": "markdown",
   "metadata": {},
   "source": [
    "- 關鍵字引數：可以直接指定引數，不用按照位置"
   ]
  },
  {
   "cell_type": "code",
   "execution_count": 10,
   "metadata": {
    "collapsed": true
   },
   "outputs": [],
   "source": [
    "def anime(pirate, ninja, pokemon):\n",
    "    return {'Pirate':pirate, 'Ninja':ninja, 'Pokemon':pokemon}"
   ]
  },
  {
   "cell_type": "code",
   "execution_count": 11,
   "metadata": {
    "collapsed": false
   },
   "outputs": [
    {
     "data": {
      "text/plain": [
       "{'Ninja': 'Naruto', 'Pirate': 'Rufy', 'Pokemon': 'Pikachu'}"
      ]
     },
     "execution_count": 11,
     "metadata": {},
     "output_type": "execute_result"
    }
   ],
   "source": [
    "anime(ninja='Naruto', pokemon='Pikachu', pirate='Rufy')"
   ]
  },
  {
   "cell_type": "markdown",
   "metadata": {},
   "source": [
    "## 4.可變數量的引數"
   ]
  },
  {
   "cell_type": "markdown",
   "metadata": {},
   "source": [
    "- 用 * 來收集 Tuple 引數"
   ]
  },
  {
   "cell_type": "code",
   "execution_count": 12,
   "metadata": {
    "collapsed": false
   },
   "outputs": [
    {
     "name": "stdout",
     "output_type": "stream",
     "text": [
      "It returns \" ('hey', 'hello') \"\n",
      "<class 'tuple'>\n"
     ]
    }
   ],
   "source": [
    "def isTuple( *args ):\n",
    "    return args\n",
    "\n",
    "print('It returns \"', isTuple('hey', 'hello'), '\"')\n",
    "print(type(isTuple('hey', 'hello')))"
   ]
  },
  {
   "cell_type": "markdown",
   "metadata": {},
   "source": [
    "- 用 ** 收集 dict 引數"
   ]
  },
  {
   "cell_type": "code",
   "execution_count": 13,
   "metadata": {
    "collapsed": false
   },
   "outputs": [
    {
     "name": "stdout",
     "output_type": "stream",
     "text": [
      "Keyword argument: {'ninja': 'Naruto', 'pokemon': 'Pikachu', 'pirate': 'Rufy'}\n"
     ]
    }
   ],
   "source": [
    "def print_kwarg(**kwargs):\n",
    "    print('Keyword argument:', kwargs)\n",
    "    \n",
    "print_kwarg(ninja='Naruto', pokemon='Pikachu', pirate='Rufy')"
   ]
  },
  {
   "cell_type": "markdown",
   "metadata": {},
   "source": [
    "- 可以固定的引數加可變的引數一起使用"
   ]
  },
  {
   "cell_type": "code",
   "execution_count": 14,
   "metadata": {
    "collapsed": true
   },
   "outputs": [],
   "source": [
    "def print_sth(required1, required2, *others):\n",
    "    print('Need this one:', required1)\n",
    "    print('Need this too:', required2)\n",
    "    print('Others:', others)"
   ]
  },
  {
   "cell_type": "code",
   "execution_count": 15,
   "metadata": {
    "collapsed": false,
    "scrolled": true
   },
   "outputs": [
    {
     "name": "stdout",
     "output_type": "stream",
     "text": [
      "Need this one: Hello\n",
      "Need this too: World\n",
      "Others: ('你好', '世界')\n"
     ]
    }
   ],
   "source": [
    "print_sth('Hello', 'World', '你好', '世界')"
   ]
  },
  {
   "cell_type": "markdown",
   "metadata": {},
   "source": [
    "- 也可以用來傳入函式中函式的引數 (有點饒舌，但真的是這樣)"
   ]
  },
  {
   "cell_type": "code",
   "execution_count": 16,
   "metadata": {
    "collapsed": true
   },
   "outputs": [],
   "source": [
    "def do(times, func, *para):\n",
    "    '執行指定的函示 n 次'\n",
    "    for i in range(times):\n",
    "        func(*para)"
   ]
  },
  {
   "cell_type": "code",
   "execution_count": 17,
   "metadata": {
    "collapsed": false,
    "scrolled": true
   },
   "outputs": [
    {
     "name": "stdout",
     "output_type": "stream",
     "text": [
      "Need this one: Hello\n",
      "Need this too: World\n",
      "Others: ('你好', '世界')\n",
      "Need this one: Hello\n",
      "Need this too: World\n",
      "Others: ('你好', '世界')\n",
      "Need this one: Hello\n",
      "Need this too: World\n",
      "Others: ('你好', '世界')\n"
     ]
    }
   ],
   "source": [
    "do(3, print_sth, 'Hello', 'World', '你好', '世界')"
   ]
  },
  {
   "cell_type": "markdown",
   "metadata": {},
   "source": [
    "## 5.Zen Of Python\n",
    "我也不知道這要取名叫什麼，這裡就講python中函式的特有用法"
   ]
  },
  {
   "cell_type": "markdown",
   "metadata": {},
   "source": [
    "- 加入 doc. string 在開頭讓 function 具可讀性"
   ]
  },
  {
   "cell_type": "code",
   "execution_count": 18,
   "metadata": {
    "collapsed": false
   },
   "outputs": [],
   "source": [
    "def helloWorld(n=1):\n",
    "    'This function is to print \"Hello World\" for n times.'\n",
    "    for i in range(n):\n",
    "        print('Hello World')"
   ]
  },
  {
   "cell_type": "markdown",
   "metadata": {},
   "source": [
    "- 使用 help 可以查詢 function 的引數、doc. string"
   ]
  },
  {
   "cell_type": "code",
   "execution_count": 19,
   "metadata": {
    "collapsed": false
   },
   "outputs": [
    {
     "name": "stdout",
     "output_type": "stream",
     "text": [
      "Help on function helloWorld in module __main__:\n",
      "\n",
      "helloWorld(n=1)\n",
      "    This function is to print \"Hello World\" for n times.\n",
      "\n"
     ]
    }
   ],
   "source": [
    "help(helloWorld)"
   ]
  },
  {
   "cell_type": "code",
   "execution_count": 20,
   "metadata": {
    "collapsed": false
   },
   "outputs": [
    {
     "data": {
      "text/plain": [
       "'This function is to print \"Hello World\" for n times.'"
      ]
     },
     "execution_count": 20,
     "metadata": {},
     "output_type": "execute_result"
    }
   ],
   "source": [
    "helloWorld.__doc__"
   ]
  },
  {
   "cell_type": "markdown",
   "metadata": {},
   "source": [
    "- Inner function\n",
    "函式中有函式"
   ]
  },
  {
   "cell_type": "code",
   "execution_count": 21,
   "metadata": {
    "collapsed": true
   },
   "outputs": [],
   "source": [
    "def Max(a, b):\n",
    "    def inner(c, d):\n",
    "        if(c>d):\n",
    "            return c\n",
    "        else:\n",
    "            return d\n",
    "    return inner(a, b)"
   ]
  },
  {
   "cell_type": "code",
   "execution_count": 22,
   "metadata": {
    "collapsed": false
   },
   "outputs": [
    {
     "data": {
      "text/plain": [
       "709"
      ]
     },
     "execution_count": 22,
     "metadata": {},
     "output_type": "execute_result"
    }
   ],
   "source": [
    "Max(508, 709)"
   ]
  },
  {
   "cell_type": "markdown",
   "metadata": {},
   "source": [
    "- Closure"
   ]
  },
  {
   "cell_type": "code",
   "execution_count": 23,
   "metadata": {
    "collapsed": true
   },
   "outputs": [],
   "source": [
    "#再次重新定義 Max()\n",
    "def Max(c, d):\n",
    "    def inner():\n",
    "        if(c>d):\n",
    "            return c\n",
    "        else:\n",
    "            return d\n",
    "    return inner\n",
    "#注意: 這樣會 return一個函式"
   ]
  },
  {
   "cell_type": "code",
   "execution_count": 24,
   "metadata": {
    "collapsed": false
   },
   "outputs": [
    {
     "data": {
      "text/plain": [
       "function"
      ]
     },
     "execution_count": 24,
     "metadata": {},
     "output_type": "execute_result"
    }
   ],
   "source": [
    "A_function = Max(15, 15.5)\n",
    "type(A_function)"
   ]
  },
  {
   "cell_type": "markdown",
   "metadata": {},
   "source": [
    "A_function 現在式函式，但也同時是 closure"
   ]
  },
  {
   "cell_type": "code",
   "execution_count": 25,
   "metadata": {
    "collapsed": false
   },
   "outputs": [
    {
     "data": {
      "text/plain": [
       "<function __main__.Max.<locals>.inner>"
      ]
     },
     "execution_count": 25,
     "metadata": {},
     "output_type": "execute_result"
    }
   ],
   "source": [
    "A_function"
   ]
  },
  {
   "cell_type": "markdown",
   "metadata": {},
   "source": [
    "如果我們要呼叫剛剛 assign 給 A_function 的 function (又好饒舌)"
   ]
  },
  {
   "cell_type": "code",
   "execution_count": 26,
   "metadata": {
    "collapsed": false
   },
   "outputs": [
    {
     "data": {
      "text/plain": [
       "15.5"
      ]
     },
     "execution_count": 26,
     "metadata": {},
     "output_type": "execute_result"
    }
   ],
   "source": [
    "A_function()"
   ]
  },
  {
   "cell_type": "markdown",
   "metadata": {},
   "source": [
    "此時他就會執行剛剛我們已經給過引數的 function 了"
   ]
  },
  {
   "cell_type": "markdown",
   "metadata": {},
   "source": [
    "## 6.Lambda"
   ]
  },
  {
   "cell_type": "markdown",
   "metadata": {},
   "source": [
    "待續..."
   ]
  },
  {
   "cell_type": "markdown",
   "metadata": {},
   "source": [
    "## 7. try、raise、excpet"
   ]
  },
  {
   "cell_type": "markdown",
   "metadata": {},
   "source": [
    "- try, excpet 可以用來處理例外事件，except 後不加引數表示處理任何的例外事件"
   ]
  },
  {
   "cell_type": "code",
   "execution_count": 27,
   "metadata": {
    "collapsed": false
   },
   "outputs": [
    {
     "name": "stdout",
     "output_type": "stream",
     "text": [
      "這沒東西\n"
     ]
    }
   ],
   "source": [
    "abc_list = list('abc')\n",
    "try:\n",
    "    D_list[3]\n",
    "except:\n",
    "    print('這沒東西')"
   ]
  },
  {
   "cell_type": "markdown",
   "metadata": {},
   "source": [
    "- except <b><i>exception_type</i></b> as <b><i>name</i></b>\n",
    "    - except <b><i>exception_type</i></b>: 表示處理該 type 的 exception\n",
    "    - as <b><i>name</i></b>: <b><i>name</i></b> 取得例外物件"
   ]
  },
  {
   "cell_type": "code",
   "execution_count": 28,
   "metadata": {
    "collapsed": false
   },
   "outputs": [
    {
     "name": "stdout",
     "output_type": "stream",
     "text": [
      "q to quit\n",
      "Position [n] = ?0\n",
      "a\n",
      "\n",
      "Position [n] = ?1\n",
      "b\n",
      "\n",
      "Position [n] = ?2\n",
      "c\n",
      "\n",
      "Position [n] = ?3\n",
      "excpetion: list index out of range\n",
      "invalid literal\n",
      "\n",
      "Position [n] = ?abc\n",
      "excpetion: invalid literal for int() with base 10: 'abc'\n",
      "\n",
      "Position [n] = ?q\n"
     ]
    }
   ],
   "source": [
    "print('q to quit')\n",
    "while True:\n",
    "    value = input('Position [n] = ?')\n",
    "    if value == 'q':\n",
    "        break\n",
    "    try:\n",
    "        position = int(value)\n",
    "        print(abc_list[position])\n",
    "    except IndexError as err:\n",
    "        print('excpetion:', err)\n",
    "        print('invalid literal')\n",
    "    except Exception as other:\n",
    "        print('excpetion:', other)\n",
    "    print('')"
   ]
  },
  {
   "cell_type": "markdown",
   "metadata": {},
   "source": [
    "- raise 則是直接引起 exception"
   ]
  }
 ],
 "metadata": {
  "kernelspec": {
   "display_name": "Python 3",
   "language": "python",
   "name": "python3"
  },
  "language_info": {
   "codemirror_mode": {
    "name": "ipython",
    "version": 3
   },
   "file_extension": ".py",
   "mimetype": "text/x-python",
   "name": "python",
   "nbconvert_exporter": "python",
   "pygments_lexer": "ipython3",
   "version": "3.6.0"
  }
 },
 "nbformat": 4,
 "nbformat_minor": 2
}
