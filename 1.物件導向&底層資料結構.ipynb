{
 "cells": [
  {
   "cell_type": "markdown",
   "metadata": {},
   "source": [
    "# 一、關於物件 (object)"
   ]
  },
  {
   "cell_type": "markdown",
   "metadata": {},
   "source": [
    "Python 和 Java 皆是 Object-Oriented (物件導向) 的程式語言，但 Java 對於變數分成以下兩種類型\n",
    ">1. Object <br />\n",
    "2. primitive type\n",
    "\n",
    "但是 Python 中 \"全部都是物件\"，只是又分成兩種類型的物件\n",
    ">1. 不可變的 (immutable)，e.g. int, float,  str, tuple... \n",
    "2. 可變的 (mutable)，e.g. list, set, dict..."
   ]
  },
  {
   "cell_type": "markdown",
   "metadata": {},
   "source": [
    "## 1.不可變 (immutable) 的物件"
   ]
  },
  {
   "cell_type": "markdown",
   "metadata": {},
   "source": [
    "- 不可變的物件，用string舉例"
   ]
  },
  {
   "cell_type": "code",
   "execution_count": 6,
   "metadata": {
    "collapsed": false
   },
   "outputs": [
    {
     "name": "stdout",
     "output_type": "stream",
     "text": [
      "A_string 現在是: ABC\n",
      "A_string 的 id 是: 2236048713464\n",
      "改變後...\n",
      "A_string 現在是: ABCDE\n",
      "A_string 的 id 是: 2236087364216\n"
     ]
    }
   ],
   "source": [
    "A_string = \"ABC\"\n",
    "print(\"A_string 現在是:\", A_string)\n",
    "print(\"A_string 的 id 是:\", id(A_string))\n",
    "print(\"改變後...\")\n",
    "\n",
    "A_string += \"DE\"\n",
    "print(\"A_string 現在是:\", A_string)\n",
    "print(\"A_string 的 id 是:\", id(A_string))"
   ]
  },
  {
   "cell_type": "markdown",
   "metadata": {},
   "source": [
    "這時候可以發現 A_string 前後是兩個不同的物件！"
   ]
  },
  {
   "cell_type": "markdown",
   "metadata": {},
   "source": [
    "## 2.可變 (mutable)  的物件"
   ]
  },
  {
   "cell_type": "markdown",
   "metadata": {},
   "source": [
    "- 可變的，用list舉例"
   ]
  },
  {
   "cell_type": "code",
   "execution_count": 8,
   "metadata": {
    "collapsed": false
   },
   "outputs": [
    {
     "name": "stdout",
     "output_type": "stream",
     "text": [
      "A_list 現在是: ['A', 'B', 'C']\n",
      "A_list 的 id 是: 2236087298696\n",
      "改變後...\n",
      "A_list 現在是: ['A', 'B', 'C', 'D', 'E']\n",
      "A_list 的 id 是: 2236087298696\n"
     ]
    }
   ],
   "source": [
    "A_list =list('ABC')\n",
    "print(\"A_list 現在是:\", A_list)\n",
    "print(\"A_list 的 id 是:\", id(A_list))\n",
    "print(\"改變後...\")\n",
    "\n",
    "A_list += 'DE'\n",
    "print(\"A_list 現在是:\", A_list)\n",
    "print(\"A_list 的 id 是:\", id(A_list))"
   ]
  },
  {
   "cell_type": "markdown",
   "metadata": {},
   "source": [
    "再來看兩個範例"
   ]
  },
  {
   "cell_type": "code",
   "execution_count": 1,
   "metadata": {
    "collapsed": false
   },
   "outputs": [
    {
     "name": "stdout",
     "output_type": "stream",
     "text": [
      "A is 3\n",
      "B is 2\n"
     ]
    }
   ],
   "source": [
    "A = 2\n",
    "B = A\n",
    "A = 3\n",
    "print('A is', A)\n",
    "print(\"B is\", B)"
   ]
  },
  {
   "cell_type": "code",
   "execution_count": 25,
   "metadata": {
    "collapsed": false
   },
   "outputs": [
    {
     "name": "stdout",
     "output_type": "stream",
     "text": [
      "A list is ['one', '2', '3']\n",
      "B list is ['one', '2', '3']\n"
     ]
    }
   ],
   "source": [
    "A_list = list('123')\n",
    "B_list = A_list\n",
    "A_list[0] = 'one' \n",
    "print('A list is', A_list)\n",
    "print('B list is', B_list)"
   ]
  },
  {
   "cell_type": "markdown",
   "metadata": {},
   "source": [
    "#### Q: 為什麼將 A assign 給 B，之後再改變 A 的數值，B不會跟著改變，可是在下面的 list 中 B_list 卻會隨 A_list 改變"
   ]
  },
  {
   "cell_type": "markdown",
   "metadata": {},
   "source": [
    "- 參考:\n",
    "    - 在 2 assign 給 A 的過程中，是先創建一個 \"數值為 2 的物件\" 給 A 參考\n",
    "    - 當 3 assign 給 A 時，此時是<b>將 A 的參考物件改成 \" 數值 3 的物件 \"</b> ，B 仍參考原本 \" 數值為 2 的物件 \"\n",
    "    - 在下面的 list 中，只是<b>修改了 A_list 所參考的物件(此為 list )中的一element</b>，並不改變 A_list 所參考的物件"
   ]
  },
  {
   "cell_type": "markdown",
   "metadata": {},
   "source": [
    "來查查看 id 吧！是不是如同以上所說"
   ]
  },
  {
   "cell_type": "code",
   "execution_count": 26,
   "metadata": {
    "collapsed": false
   },
   "outputs": [
    {
     "name": "stdout",
     "output_type": "stream",
     "text": [
      "A的Content: 3\n",
      "C的Content: 3\n",
      "A的id: 1617738256\n",
      "C的id: 1617738256\n"
     ]
    }
   ],
   "source": [
    "#現在 A 是 3，我們來將 A assign 給 C\n",
    "C = A\n",
    "print('A的Content:', A)\n",
    "print('C的Content:', C)\n",
    "print('A的id:', id(A))\n",
    "print('C的id:', id(C))"
   ]
  },
  {
   "cell_type": "markdown",
   "metadata": {},
   "source": [
    "是吧！現在我們把 4 assign 給 A 吧"
   ]
  },
  {
   "cell_type": "code",
   "execution_count": 27,
   "metadata": {
    "collapsed": false
   },
   "outputs": [
    {
     "name": "stdout",
     "output_type": "stream",
     "text": [
      "A的Content: 4\n",
      "C的Content: 3\n",
      "A的id: 1617738288\n",
      "C的id: 1617738256\n"
     ]
    }
   ],
   "source": [
    "A = 4\n",
    "print('A的Content:', A)\n",
    "print('C的Content:', C)\n",
    "print('A的id:', id(A))\n",
    "print('C的id:', id(C))"
   ]
  },
  {
   "cell_type": "markdown",
   "metadata": {},
   "source": [
    "恩...那如果我再把 4 assign 給 C呢 "
   ]
  },
  {
   "cell_type": "code",
   "execution_count": 28,
   "metadata": {
    "collapsed": false
   },
   "outputs": [
    {
     "name": "stdout",
     "output_type": "stream",
     "text": [
      "A的Content: 4\n",
      "C的Content: 4\n",
      "A的id: 1617738288\n",
      "C的id: 1617738288\n"
     ]
    }
   ],
   "source": [
    "C = 4\n",
    "print('A的Content:', A)\n",
    "print('C的Content:', C)\n",
    "print('A的id:', id(A))\n",
    "print('C的id:', id(C))"
   ]
  },
  {
   "cell_type": "markdown",
   "metadata": {},
   "source": [
    "看來 \"數值為 4 的物件\" 只有一個，但這其實是因為實作的關係，在 Cpython -5 ~ 256的數值物件只會有一個 "
   ]
  },
  {
   "cell_type": "code",
   "execution_count": 22,
   "metadata": {
    "collapsed": false
   },
   "outputs": [
    {
     "name": "stdout",
     "output_type": "stream",
     "text": [
      "D的Content: 257\n",
      "E的Content: 257\n",
      "D的id: 2935334329968\n",
      "E的id: 2935334330128\n"
     ]
    }
   ],
   "source": [
    "D = 257\n",
    "E = 257\n",
    "print('D的Content:', D)\n",
    "print('E的Content:', E)\n",
    "print('D的id:', id(D))\n",
    "print('E的id:', id(E))"
   ]
  },
  {
   "cell_type": "markdown",
   "metadata": {},
   "source": [
    "再來看看list吧"
   ]
  },
  {
   "cell_type": "code",
   "execution_count": 29,
   "metadata": {
    "collapsed": false
   },
   "outputs": [
    {
     "name": "stdout",
     "output_type": "stream",
     "text": [
      "改變前...\n",
      "C list is ['1', '2', '3']\n",
      "D list is ['1', '2', '3']\n",
      "C list 的 id 是 2761049664648\n",
      "D list 的 id 是 2761049664648\n",
      "改變後...\n",
      "C list is ['one', '2', '3']\n",
      "D list is ['one', '2', '3']\n",
      "C list 的 id 是 2761049664648\n",
      "D list 的 id 是 2761049664648\n"
     ]
    }
   ],
   "source": [
    "C_list = list('123')\n",
    "D_list = C_list\n",
    "print('改變前...')\n",
    "print('C list is', C_list)\n",
    "print('D list is', D_list)\n",
    "print('C list 的 id 是', id(C_list))\n",
    "print('D list 的 id 是', id(D_list))\n",
    "\n",
    "C_list[0] = 'one' \n",
    "print('改變後...')\n",
    "print('C list is', C_list)\n",
    "print('D list is', D_list)\n",
    "print('C list 的 id 是', id(C_list))\n",
    "print('D list 的 id 是', id(D_list))"
   ]
  },
  {
   "cell_type": "markdown",
   "metadata": {},
   "source": [
    "果然還是同個物件！所以我只是要 copy list 呢? 不要指向同一個<br/> -> 就用copy()吧"
   ]
  },
  {
   "cell_type": "code",
   "execution_count": 30,
   "metadata": {
    "collapsed": false
   },
   "outputs": [
    {
     "name": "stdout",
     "output_type": "stream",
     "text": [
      "C list is ['one', '2', '3']\n",
      "D list is ['one', '2', '3']\n",
      "C list 的 id 是 2761049664648\n",
      "D list 的 id 是 2761049599176\n"
     ]
    }
   ],
   "source": [
    "D_list = C_list.copy()\n",
    "print('C list is', C_list)\n",
    "print('D list is', D_list)\n",
    "print('C list 的 id 是', id(C_list))\n",
    "print('D list 的 id 是', id(D_list))"
   ]
  },
  {
   "cell_type": "markdown",
   "metadata": {},
   "source": [
    "是不是不同個了！"
   ]
  },
  {
   "cell_type": "markdown",
   "metadata": {},
   "source": [
    "# 二、Data structure implementation"
   ]
  },
  {
   "cell_type": "markdown",
   "metadata": {},
   "source": [
    "## 1.List\n",
    "- tuple, list 是由儲存 pointer 的 array 所實作，其中 list 的操作:\n",
    "    - pop, append 只需花 O(1)\n",
    "    - 但是 remove, insert 需花 O(n)    "
   ]
  },
  {
   "cell_type": "markdown",
   "metadata": {},
   "source": [
    "## 2.Dict, Set\n",
    "- dict, set 是由 hash 所實作\n",
    "    - collision 的解決方法不是 chaning\n",
    "    - 還不知道實際的 Hash function 以及 probling\n",
    "    - Hash function 是對 key 作\n",
    "    - remove item 並不會使 dict resize, rehash，而是將原本的欄位設成 dummy slot (會在)\n",
    "    - 於插入新值時，再resize"
   ]
  }
 ],
 "metadata": {
  "kernelspec": {
   "display_name": "Python 3",
   "language": "python",
   "name": "python3"
  },
  "language_info": {
   "codemirror_mode": {
    "name": "ipython",
    "version": 3
   },
   "file_extension": ".py",
   "mimetype": "text/x-python",
   "name": "python",
   "nbconvert_exporter": "python",
   "pygments_lexer": "ipython3",
   "version": "3.6.0"
  }
 },
 "nbformat": 4,
 "nbformat_minor": 2
}
